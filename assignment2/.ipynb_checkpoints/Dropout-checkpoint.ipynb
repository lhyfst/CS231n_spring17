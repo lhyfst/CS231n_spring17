{
 "cells": [
  {
   "cell_type": "markdown",
   "metadata": {},
   "source": [
    "# Dropout\n",
    "Dropout [1] is a technique for regularizing neural networks by randomly setting some features to zero during the forward pass. In this exercise you will implement a dropout layer and modify your fully-connected network to optionally use dropout.\n",
    "\n",
    "[1] [Geoffrey E. Hinton et al, \"Improving neural networks by preventing co-adaptation of feature detectors\", arXiv 2012](https://arxiv.org/abs/1207.0580)"
   ]
  },
  {
   "cell_type": "code",
   "execution_count": 1,
   "metadata": {
    "ExecuteTime": {
     "end_time": "2018-10-20T01:32:22.728744Z",
     "start_time": "2018-10-20T01:32:22.316313Z"
    }
   },
   "outputs": [],
   "source": [
    "# As usual, a bit of setup\n",
    "from __future__ import print_function\n",
    "import time\n",
    "import numpy as np\n",
    "import matplotlib.pyplot as plt\n",
    "from cs231n.classifiers.fc_net import *\n",
    "from cs231n.data_utils import get_CIFAR10_data\n",
    "from cs231n.gradient_check import eval_numerical_gradient, eval_numerical_gradient_array\n",
    "from cs231n.solver import Solver\n",
    "\n",
    "%matplotlib inline\n",
    "plt.rcParams['figure.figsize'] = (10.0, 8.0) # set default size of plots\n",
    "plt.rcParams['image.interpolation'] = 'nearest'\n",
    "plt.rcParams['image.cmap'] = 'gray'\n",
    "\n",
    "# for auto-reloading external modules\n",
    "# see http://stackoverflow.com/questions/1907993/autoreload-of-modules-in-ipython\n",
    "%load_ext autoreload\n",
    "%autoreload 2\n",
    "\n",
    "def rel_error(x, y):\n",
    "    \"\"\" returns relative error \"\"\"\n",
    "    return np.max(np.abs(x - y) / (np.maximum(1e-8, np.abs(x) + np.abs(y))))"
   ]
  },
  {
   "cell_type": "code",
   "execution_count": 2,
   "metadata": {
    "ExecuteTime": {
     "end_time": "2018-10-20T01:33:51.084067Z",
     "start_time": "2018-10-20T01:33:47.411781Z"
    }
   },
   "outputs": [
    {
     "name": "stdout",
     "output_type": "stream",
     "text": [
      "X_val:  (1000, 3, 32, 32)\n",
      "X_train:  (49000, 3, 32, 32)\n",
      "X_test:  (1000, 3, 32, 32)\n",
      "y_val:  (1000,)\n",
      "y_train:  (49000,)\n",
      "y_test:  (1000,)\n"
     ]
    }
   ],
   "source": [
    "# Load the (preprocessed) CIFAR10 data.\n",
    "\n",
    "data = get_CIFAR10_data()\n",
    "for k, v in data.items():\n",
    "    print('%s: ' % k, v.shape)"
   ]
  },
  {
   "cell_type": "markdown",
   "metadata": {},
   "source": [
    "# Dropout forward pass\n",
    "In the file `cs231n/layers.py`, implement the forward pass for dropout. Since dropout behaves differently during training and testing, make sure to implement the operation for both modes.\n",
    "\n",
    "Once you have done so, run the cell below to test your implementation."
   ]
  },
  {
   "cell_type": "code",
   "execution_count": 8,
   "metadata": {
    "ExecuteTime": {
     "end_time": "2018-10-20T01:44:37.739634Z",
     "start_time": "2018-10-20T01:44:37.709753Z"
    }
   },
   "outputs": [
    {
     "data": {
      "text/plain": [
       "array([[[[  40.35810204,   38.94430612,   37.03944898, ...,\n",
       "            52.08416327,   49.74489796,   50.94502041],\n",
       "         [  39.97585714,   38.73944898,   36.86344898, ...,\n",
       "            56.07028571,   52.7807551 ,   50.94636735],\n",
       "         [  41.33663265,   39.34353061,   38.58165306, ...,\n",
       "            52.87120408,   51.48989796,   50.48187755],\n",
       "         ...,\n",
       "         [ -13.53626531,   -9.56961224,   -6.90812245, ...,\n",
       "            -5.28104082,   -4.71422449,   -6.54308163],\n",
       "         [ -16.05942857,  -13.44416327,  -12.2555102 , ...,\n",
       "            -9.53432653,  -10.6054898 ,  -13.01536735],\n",
       "         [ -25.73597959,  -22.58926531,  -21.85330612, ...,\n",
       "           -15.8035102 ,  -16.56571429,  -15.64218367]],\n",
       "\n",
       "        [[  51.01826531,   51.65195918,   50.85671429, ...,\n",
       "            57.82467347,   54.4197551 ,   56.63465306],\n",
       "         [  48.78316327,   49.63691837,   49.91895918, ...,\n",
       "            54.96422449,   54.544     ,   55.70804082],\n",
       "         [  50.41510204,   50.57302041,   51.01312245, ...,\n",
       "            55.11087755,   54.52940816,   56.50165306],\n",
       "         ...,\n",
       "         [   7.06446939,   11.28759184,   14.21993878, ...,\n",
       "            18.95071429,   18.22269388,   16.1052449 ],\n",
       "         [   4.63295918,    6.44293878,    7.84238776, ...,\n",
       "            13.61495918,   12.32565306,    9.68942857],\n",
       "         [  -5.95240816,   -2.64944898,   -0.75191837, ...,\n",
       "             7.26855102,    6.37042857,    7.13804082]],\n",
       "\n",
       "        [[  81.52608163,   82.24597959,   81.52363265, ...,\n",
       "            79.70193878,   77.1307551 ,   78.21483673],\n",
       "         [  79.72267347,   79.63771429,   79.00018367, ...,\n",
       "            79.21777551,   77.61238776,   78.64302041],\n",
       "         [  80.81738776,   80.05812245,   80.59912245, ...,\n",
       "            79.79559184,   78.02171429,   78.84563265],\n",
       "         ...,\n",
       "         [  34.86355102,   39.22930612,   42.274     , ...,\n",
       "            44.08228571,   44.21557143,   41.86181633],\n",
       "         [  32.35404082,   34.32144898,   35.84595918, ...,\n",
       "            39.70189796,   38.25883673,   35.37018367],\n",
       "         [  20.54336735,   24.02361224,   25.05283673, ...,\n",
       "            33.137     ,   32.08042857,   32.60042857]]],\n",
       "\n",
       "\n",
       "       [[[ 124.35810204,  123.94430612,  120.03944898, ...,\n",
       "           123.08416327,  122.74489796,  124.94502041],\n",
       "         [ 123.97585714,  123.73944898,  122.86344898, ...,\n",
       "           123.07028571,  122.7807551 ,  125.94636735],\n",
       "         [ 125.33663265,  124.34353061,  124.58165306, ...,\n",
       "           124.87120408,  125.48989796,  126.48187755],\n",
       "         ...,\n",
       "         [ 128.46373469,  129.43038776,  130.09187755, ...,\n",
       "           129.71895918,  129.28577551,  129.45691837],\n",
       "         [ 127.94057143,  128.55583673,  128.7444898 , ...,\n",
       "           128.46567347,  128.3945102 ,  128.98463265],\n",
       "         [ 127.26402041,  127.41073469,  127.14669388, ...,\n",
       "           127.1964898 ,  127.43428571,  128.35781633]],\n",
       "\n",
       "        [[ 119.01826531,  116.65195918,  115.85671429, ...,\n",
       "           117.82467347,  117.4197551 ,  119.63465306],\n",
       "         [ 119.78316327,  118.63691837,  116.91895918, ...,\n",
       "           117.96422449,  117.544     ,  120.70804082],\n",
       "         [ 120.41510204,  119.57302041,  120.01312245, ...,\n",
       "           120.11087755,  120.52940816,  121.50165306],\n",
       "         ...,\n",
       "         [ 129.06446939,  130.28759184,  131.21993878, ...,\n",
       "           130.95071429,  130.22269388,  130.1052449 ],\n",
       "         [ 128.63295918,  129.44293878,  129.84238776, ...,\n",
       "           129.61495918,  129.32565306,  129.68942857],\n",
       "         [ 128.04759184,  128.35055102,  128.24808163, ...,\n",
       "           128.26855102,  128.37042857,  129.13804082]],\n",
       "\n",
       "        [[ 117.52608163,  118.24597959,  121.52363265, ...,\n",
       "           121.70193878,  121.1307551 ,  123.21483673],\n",
       "         [ 120.72267347,  116.63771429,  119.00018367, ...,\n",
       "           122.21777551,  121.61238776,  124.64302041],\n",
       "         [ 124.81738776,  123.05812245,  118.59912245, ...,\n",
       "           124.79559184,  125.02171429,  125.84563265],\n",
       "         ...,\n",
       "         [ 140.86355102,  142.22930612,  143.274     , ...,\n",
       "           143.08228571,  142.21557143,  141.86181633],\n",
       "         [ 140.35404082,  141.32144898,  141.84595918, ...,\n",
       "           141.70189796,  141.25883673,  141.37018367],\n",
       "         [ 139.54336735,  140.02361224,  140.05283673, ...,\n",
       "           140.137     ,  140.08042857,  140.60042857]]],\n",
       "\n",
       "\n",
       "       [[[  23.35810204,   26.94430612,   24.03944898, ...,\n",
       "           -10.91583673,   -5.25510204,    1.94502041],\n",
       "         [  21.97585714,   21.73944898,   20.86344898, ...,\n",
       "           -11.92971429,   -2.2192449 ,   -3.05363265],\n",
       "         [  16.33663265,   10.34353061,   10.58165306, ...,\n",
       "            21.87120408,   17.48989796,   14.48187755],\n",
       "         ...,\n",
       "         [ -36.53626531,  -46.56961224,  -30.90812245, ...,\n",
       "            -4.28104082,  -35.71422449,  -60.54308163],\n",
       "         [ -43.05942857,  -59.44416327,  -39.2555102 , ...,\n",
       "            31.46567347,   10.3945102 ,  -30.01536735],\n",
       "         [ -74.73597959,  -54.58926531,  -21.85330612, ...,\n",
       "             4.1964898 ,  -11.56571429,  -15.64218367]],\n",
       "\n",
       "        [[  10.01826531,   17.65195918,   16.85671429, ...,\n",
       "           -16.17532653,   -9.5802449 ,   -3.36534694],\n",
       "         [  10.78316327,   14.63691837,   14.91895918, ...,\n",
       "           -19.03577551,   -8.456     ,   -9.29195918],\n",
       "         [   8.41510204,    5.57302041,    8.01312245, ...,\n",
       "            13.11087755,    9.52940816,    5.50165306],\n",
       "         ...,\n",
       "         [ -35.93553061,  -45.71240816,  -29.78006122, ...,\n",
       "            -3.04928571,  -34.77730612,  -59.8947551 ],\n",
       "         [ -42.36704082,  -58.55706122,  -38.15761224, ...,\n",
       "            32.61495918,   11.32565306,  -29.31057143],\n",
       "         [ -73.95240816,  -53.64944898,  -20.75191837, ...,\n",
       "             5.26855102,  -10.62957143,  -14.86195918]],\n",
       "\n",
       "        [[  13.52608163,   20.24597959,   18.52363265, ...,\n",
       "           -12.29806122,   -6.8692449 ,    0.21483673],\n",
       "         [  14.72267347,   16.63771429,   17.00018367, ...,\n",
       "           -13.78222449,   -4.38761224,   -5.35697959],\n",
       "         [  11.81738776,    8.05812245,    9.59912245, ...,\n",
       "            18.79559184,   15.02171429,   10.84563265],\n",
       "         ...,\n",
       "         [ -24.13644898,  -33.77069388,  -17.726     , ...,\n",
       "             9.08228571,  -22.78442857,  -48.13818367],\n",
       "         [ -30.64595918,  -46.67855102,  -26.15404082, ...,\n",
       "            44.70189796,   23.25883673,  -17.62981633],\n",
       "         [ -62.45663265,  -41.97638776,   -9.94716327, ...,\n",
       "            17.137     ,    1.08042857,   -3.39957143]]],\n",
       "\n",
       "\n",
       "       ...,\n",
       "\n",
       "\n",
       "       [[[ -95.64189796,  -90.05569388,  -88.96055102, ...,\n",
       "           -31.91583673,  -51.25510204,  -41.05497959],\n",
       "         [ -73.02414286,  -85.26055102,  -80.13655102, ...,\n",
       "            26.07028571,   11.7807551 ,  -13.05363265],\n",
       "         [ -31.66336735,  -64.65646939,  -60.41834694, ...,\n",
       "            58.87120408,   -9.51010204,  -67.51812245],\n",
       "         ...,\n",
       "         [ -53.53626531,  -71.56961224,  -69.90812245, ...,\n",
       "          -107.28104082, -103.71422449,  -92.54308163],\n",
       "         [ -66.05942857,  -70.44416327,  -68.2555102 , ...,\n",
       "          -101.53432653, -108.6054898 , -119.01536735],\n",
       "         [ -83.73597959,  -80.58926531,  -77.85330612, ...,\n",
       "           -99.8035102 , -105.56571429, -114.64218367]],\n",
       "\n",
       "        [[  42.01826531,   40.65195918,   39.85671429, ...,\n",
       "            40.82467347,   11.4197551 ,   12.63465306],\n",
       "         [  46.78316327,   49.63691837,   47.91895918, ...,\n",
       "            46.96422449,   42.544     ,   14.70804082],\n",
       "         [  62.41510204,   55.57302041,   58.01312245, ...,\n",
       "            61.11087755,    1.52940816,  -54.49834694],\n",
       "         ...,\n",
       "         [ -46.93553061,  -60.71240816,  -54.78006122, ...,\n",
       "           -83.04928571,  -87.77730612,  -76.8947551 ],\n",
       "         [ -58.36704082,  -54.55706122,  -45.15761224, ...,\n",
       "           -76.38504082,  -89.67434694, -102.31057143],\n",
       "         [ -70.95240816,  -59.64944898,  -48.75191837, ...,\n",
       "           -73.73144898,  -82.62957143,  -94.86195918]],\n",
       "\n",
       "        [[ 102.52608163,  107.24597959,  108.52363265, ...,\n",
       "            86.70193878,   65.1307551 ,   57.21483673],\n",
       "         [ 102.72267347,  119.63771429,  109.00018367, ...,\n",
       "            69.21777551,   75.61238776,   44.64302041],\n",
       "         [ 106.81738776,  123.05812245,  115.59912245, ...,\n",
       "            76.79559184,   18.02171429,  -39.15436735],\n",
       "         ...,\n",
       "         [ -37.13644898,  -43.77069388,  -30.726     , ...,\n",
       "           -46.91771429,  -60.78442857,  -64.13818367],\n",
       "         [ -39.64595918,  -26.67855102,   -9.15404082, ...,\n",
       "           -40.29810204,  -59.74116327,  -81.62981633],\n",
       "         [ -42.45663265,  -25.97638776,   -8.94716327, ...,\n",
       "           -36.863     ,  -47.91957143,  -64.39957143]]],\n",
       "\n",
       "\n",
       "       [[[  58.35810204,   55.94430612,   54.03944898, ...,\n",
       "            44.08416327,   41.74489796,   38.94502041],\n",
       "         [  63.97585714,   61.73944898,   59.86344898, ...,\n",
       "            43.07028571,   41.7807551 ,   37.94636735],\n",
       "         [  78.33663265,   76.34353061,   74.58165306, ...,\n",
       "            45.87120408,   43.48989796,   40.48187755],\n",
       "         ...,\n",
       "         [  80.46373469,   78.43038776,   79.09187755, ...,\n",
       "            10.71895918,   37.28577551,   42.45691837],\n",
       "         [  70.94057143,   63.55583673,   54.7444898 , ...,\n",
       "            52.46567347,   49.3945102 ,   48.98463265],\n",
       "         [  70.26402041,   62.41073469,   51.14669388, ...,\n",
       "            68.1964898 ,   69.43428571,   68.35781633]],\n",
       "\n",
       "        [[  75.01826531,   72.65195918,   70.85671429, ...,\n",
       "            58.82467347,   58.4197551 ,   58.63465306],\n",
       "         [  74.78316327,   72.63691837,   70.91895918, ...,\n",
       "            56.96422449,   56.544     ,   55.70804082],\n",
       "         [  84.41510204,   82.57302041,   81.01312245, ...,\n",
       "            57.11087755,   56.52940816,   57.50165306],\n",
       "         ...,\n",
       "         [  73.06446939,   71.28759184,   73.21993878, ...,\n",
       "             8.95071429,   34.22269388,   38.1052449 ],\n",
       "         [  63.63295918,   56.44293878,   47.84238776, ...,\n",
       "            46.61495918,   44.32565306,   43.68942857],\n",
       "         [  62.04759184,   55.35055102,   44.24808163, ...,\n",
       "            58.26855102,   63.37042857,   64.13804082]],\n",
       "\n",
       "        [[ 107.52608163,  104.24597959,  102.52363265, ...,\n",
       "            91.70193878,   90.1307551 ,   88.21483673],\n",
       "         [ 107.72267347,  105.63771429,  104.00018367, ...,\n",
       "            89.21777551,   87.61238776,   85.64302041],\n",
       "         [ 113.81738776,  111.05812245,  109.59912245, ...,\n",
       "            87.79559184,   87.02171429,   85.84563265],\n",
       "         ...,\n",
       "         [  66.86355102,   63.22930612,   62.274     , ...,\n",
       "            16.08228571,   38.21557143,   37.86181633],\n",
       "         [  55.35404082,   46.32144898,   34.84595918, ...,\n",
       "            47.70189796,   43.25883673,   40.37018367],\n",
       "         [  57.54336735,   48.02361224,   35.05283673, ...,\n",
       "            55.137     ,   57.08042857,   56.60042857]]],\n",
       "\n",
       "\n",
       "       [[[  98.35810204,  105.94430612,  103.03944898, ...,\n",
       "            86.08416327,   90.74489796,   91.94502041],\n",
       "         [  91.97585714,  109.73944898,  102.86344898, ...,\n",
       "            93.07028571,   97.7807551 ,   80.94636735],\n",
       "         [  83.33663265,  105.34353061,  101.58165306, ...,\n",
       "            90.87120408,   91.48989796,   73.48187755],\n",
       "         ...,\n",
       "         [  23.46373469,   15.43038776,    8.09187755, ...,\n",
       "            99.71895918,  105.28577551,  115.45691837],\n",
       "         [   9.94057143,    4.55583673,   -0.2555102 , ...,\n",
       "            55.46567347,   76.3945102 ,   85.98463265],\n",
       "         [  -5.73597959,   -8.58926531,   -6.85330612, ...,\n",
       "            52.1964898 ,   37.43428571,   36.35781633]],\n",
       "\n",
       "        [[  93.01826531,  101.65195918,   99.85671429, ...,\n",
       "            82.82467347,   87.4197551 ,   87.63465306],\n",
       "         [  85.78316327,  104.63691837,   98.91895918, ...,\n",
       "            87.96422449,   93.544     ,   76.70804082],\n",
       "         [  71.41510204,   98.57302041,   99.01312245, ...,\n",
       "            86.11087755,   85.52940816,   69.50165306],\n",
       "         ...,\n",
       "         [  17.06446939,   11.28759184,    4.21993878, ...,\n",
       "            98.95071429,  104.22269388,  116.1052449 ],\n",
       "         [   5.63295918,    2.44293878,   -3.15761224, ...,\n",
       "            55.61495918,   76.32565306,   85.68942857],\n",
       "         [  -7.95240816,   -9.64944898,   -9.75191837, ...,\n",
       "            51.26855102,   38.37042857,   37.13804082]],\n",
       "\n",
       "        [[ 106.52608163,  115.24597959,  114.52363265, ...,\n",
       "           100.70193878,  102.1307551 ,  101.21483673],\n",
       "         [  97.72267347,  118.63771429,  115.00018367, ...,\n",
       "           105.21777551,  107.61238776,   89.64302041],\n",
       "         [  80.81738776,  110.05812245,  114.59912245, ...,\n",
       "           102.79559184,  103.02171429,   85.84563265],\n",
       "         ...,\n",
       "         [  20.86355102,   15.22930612,    9.274     , ...,\n",
       "           107.08228571,  113.21557143,  124.86181633],\n",
       "         [  11.35404082,    7.32144898,    2.84595918, ...,\n",
       "            65.70189796,   85.25883673,   93.37018367],\n",
       "         [  -1.45663265,   -3.97638776,   -2.94716327, ...,\n",
       "            59.137     ,   48.08042857,   46.60042857]]]])"
      ]
     },
     "execution_count": 8,
     "metadata": {},
     "output_type": "execute_result"
    }
   ],
   "source": [
    "data['X_val']"
   ]
  },
  {
   "cell_type": "code",
   "execution_count": 6,
   "metadata": {
    "ExecuteTime": {
     "end_time": "2018-10-20T01:44:00.522730Z",
     "start_time": "2018-10-20T01:44:00.422358Z"
    }
   },
   "outputs": [
    {
     "ename": "NameError",
     "evalue": "name 'X_val' is not defined",
     "output_type": "error",
     "traceback": [
      "\u001b[0;31m---------------------------------------------------------------------------\u001b[0m",
      "\u001b[0;31mNameError\u001b[0m                                 Traceback (most recent call last)",
      "\u001b[0;32m<ipython-input-6-db9214b4000c>\u001b[0m in \u001b[0;36m<module>\u001b[0;34m()\u001b[0m\n\u001b[0;32m----> 1\u001b[0;31m \u001b[0mmask\u001b[0m \u001b[0;34m=\u001b[0m \u001b[0mnp\u001b[0m\u001b[0;34m.\u001b[0m\u001b[0mrandom\u001b[0m\u001b[0;34m.\u001b[0m\u001b[0mrand\u001b[0m\u001b[0;34m(\u001b[0m\u001b[0;34m*\u001b[0m\u001b[0mX_val\u001b[0m\u001b[0;34m.\u001b[0m\u001b[0mshape\u001b[0m\u001b[0;34m)\u001b[0m \u001b[0;34m<\u001b[0m \u001b[0;34m(\u001b[0m\u001b[0;36m1\u001b[0m \u001b[0;34m-\u001b[0m \u001b[0mp\u001b[0m\u001b[0;34m)\u001b[0m\u001b[0;34m\u001b[0m\u001b[0m\n\u001b[0m",
      "\u001b[0;31mNameError\u001b[0m: name 'X_val' is not defined"
     ]
    }
   ],
   "source": [
    "mask = np.random.rand(*data.shape) < (1 - p)"
   ]
  },
  {
   "cell_type": "code",
   "execution_count": null,
   "metadata": {
    "collapsed": true
   },
   "outputs": [],
   "source": [
    "np.random.seed(231)\n",
    "x = np.random.randn(500, 500) + 10\n",
    "\n",
    "for p in [0.25, 0.4, 0.7]:\n",
    "  out, _ = dropout_forward(x, {'mode': 'train', 'p': p})\n",
    "  out_test, _ = dropout_forward(x, {'mode': 'test', 'p': p})\n",
    "\n",
    "  print('Running tests with p = ', p)\n",
    "  print('Mean of input: ', x.mean())\n",
    "  print('Mean of train-time output: ', out.mean())\n",
    "  print('Mean of test-time output: ', out_test.mean())\n",
    "  print('Fraction of train-time output set to zero: ', (out == 0).mean())\n",
    "  print('Fraction of test-time output set to zero: ', (out_test == 0).mean())\n",
    "  print()"
   ]
  },
  {
   "cell_type": "markdown",
   "metadata": {},
   "source": [
    "# Dropout backward pass\n",
    "In the file `cs231n/layers.py`, implement the backward pass for dropout. After doing so, run the following cell to numerically gradient-check your implementation."
   ]
  },
  {
   "cell_type": "code",
   "execution_count": null,
   "metadata": {
    "collapsed": true
   },
   "outputs": [],
   "source": [
    "np.random.seed(231)\n",
    "x = np.random.randn(10, 10) + 10\n",
    "dout = np.random.randn(*x.shape)\n",
    "\n",
    "dropout_param = {'mode': 'train', 'p': 0.2, 'seed': 123}\n",
    "out, cache = dropout_forward(x, dropout_param)\n",
    "dx = dropout_backward(dout, cache)\n",
    "dx_num = eval_numerical_gradient_array(lambda xx: dropout_forward(xx, dropout_param)[0], x, dout)\n",
    "\n",
    "# Error should be around e-10 or less\n",
    "print('dx relative error: ', rel_error(dx, dx_num))"
   ]
  },
  {
   "cell_type": "markdown",
   "metadata": {},
   "source": [
    "## Inline Question 1:\n",
    "What happens if we do not divide the values being passed through inverse dropout by `p` in the dropout layer? Why does that happen?"
   ]
  },
  {
   "cell_type": "markdown",
   "metadata": {},
   "source": [
    "## Answer:\n"
   ]
  },
  {
   "cell_type": "markdown",
   "metadata": {},
   "source": [
    "# Fully-connected nets with Dropout\n",
    "In the file `cs231n/classifiers/fc_net.py`, modify your implementation to use dropout. Specifically, if the constructor of the net receives a value that is not 1 for the `dropout` parameter, then the net should add dropout immediately after every ReLU nonlinearity. After doing so, run the following to numerically gradient-check your implementation."
   ]
  },
  {
   "cell_type": "code",
   "execution_count": null,
   "metadata": {
    "collapsed": true
   },
   "outputs": [],
   "source": [
    "np.random.seed(231)\n",
    "N, D, H1, H2, C = 2, 15, 20, 30, 10\n",
    "X = np.random.randn(N, D)\n",
    "y = np.random.randint(C, size=(N,))\n",
    "\n",
    "for dropout in [1, 0.75, 0.5]:\n",
    "  print('Running check with dropout = ', dropout)\n",
    "  model = FullyConnectedNet([H1, H2], input_dim=D, num_classes=C,\n",
    "                            weight_scale=5e-2, dtype=np.float64,\n",
    "                            dropout=dropout, seed=123)\n",
    "\n",
    "  loss, grads = model.loss(X, y)\n",
    "  print('Initial loss: ', loss)\n",
    "  \n",
    "  # Relative errors should be around e-6 or less; Note that it's fine\n",
    "  # if for dropout=1 you have W2 error be on the order of e-5.\n",
    "  for name in sorted(grads):\n",
    "    f = lambda _: model.loss(X, y)[0]\n",
    "    grad_num = eval_numerical_gradient(f, model.params[name], verbose=False, h=1e-5)\n",
    "    print('%s relative error: %.2e' % (name, rel_error(grad_num, grads[name])))\n",
    "  print()"
   ]
  },
  {
   "cell_type": "markdown",
   "metadata": {},
   "source": [
    "# Regularization experiment\n",
    "As an experiment, we will train a pair of two-layer networks on 500 training examples: one will use no dropout, and one will use a keep probability of 0.25. We will then visualize the training and validation accuracies of the two networks over time."
   ]
  },
  {
   "cell_type": "code",
   "execution_count": null,
   "metadata": {
    "collapsed": true,
    "scrolled": false
   },
   "outputs": [],
   "source": [
    "# Train two identical nets, one with dropout and one without\n",
    "np.random.seed(231)\n",
    "num_train = 500\n",
    "small_data = {\n",
    "  'X_train': data['X_train'][:num_train],\n",
    "  'y_train': data['y_train'][:num_train],\n",
    "  'X_val': data['X_val'],\n",
    "  'y_val': data['y_val'],\n",
    "}\n",
    "\n",
    "solvers = {}\n",
    "dropout_choices = [1, 0.25]\n",
    "for dropout in dropout_choices:\n",
    "  model = FullyConnectedNet([500], dropout=dropout)\n",
    "  print(dropout)\n",
    "\n",
    "  solver = Solver(model, small_data,\n",
    "                  num_epochs=25, batch_size=100,\n",
    "                  update_rule='adam',\n",
    "                  optim_config={\n",
    "                    'learning_rate': 5e-4,\n",
    "                  },\n",
    "                  verbose=True, print_every=100)\n",
    "  solver.train()\n",
    "  solvers[dropout] = solver"
   ]
  },
  {
   "cell_type": "code",
   "execution_count": null,
   "metadata": {
    "collapsed": true
   },
   "outputs": [],
   "source": [
    "# Plot train and validation accuracies of the two models\n",
    "\n",
    "train_accs = []\n",
    "val_accs = []\n",
    "for dropout in dropout_choices:\n",
    "  solver = solvers[dropout]\n",
    "  train_accs.append(solver.train_acc_history[-1])\n",
    "  val_accs.append(solver.val_acc_history[-1])\n",
    "\n",
    "plt.subplot(3, 1, 1)\n",
    "for dropout in dropout_choices:\n",
    "  plt.plot(solvers[dropout].train_acc_history, 'o', label='%.2f dropout' % dropout)\n",
    "plt.title('Train accuracy')\n",
    "plt.xlabel('Epoch')\n",
    "plt.ylabel('Accuracy')\n",
    "plt.legend(ncol=2, loc='lower right')\n",
    "  \n",
    "plt.subplot(3, 1, 2)\n",
    "for dropout in dropout_choices:\n",
    "  plt.plot(solvers[dropout].val_acc_history, 'o', label='%.2f dropout' % dropout)\n",
    "plt.title('Val accuracy')\n",
    "plt.xlabel('Epoch')\n",
    "plt.ylabel('Accuracy')\n",
    "plt.legend(ncol=2, loc='lower right')\n",
    "\n",
    "plt.gcf().set_size_inches(15, 15)\n",
    "plt.show()"
   ]
  },
  {
   "cell_type": "markdown",
   "metadata": {},
   "source": [
    "## Inline Question 2:\n",
    "Compare the validation and training accuracies with and without dropout -- what do your results suggest about dropout as a regularizer?"
   ]
  },
  {
   "cell_type": "markdown",
   "metadata": {},
   "source": [
    "## Answer:\n"
   ]
  },
  {
   "cell_type": "markdown",
   "metadata": {},
   "source": [
    "## Inline Question 3:\n",
    "Suppose we are training a deep fully-connected network for image classification, with dropout after hidden layers (parameterized by keep probability p). How should we modify p, if at all, if we decide to decrease the size of the hidden layers (that is, the number of nodes in each layer)?"
   ]
  },
  {
   "cell_type": "markdown",
   "metadata": {},
   "source": [
    "## Answer:\n"
   ]
  },
  {
   "cell_type": "code",
   "execution_count": null,
   "metadata": {
    "collapsed": true
   },
   "outputs": [],
   "source": []
  }
 ],
 "metadata": {
  "kernelspec": {
   "display_name": "Python 2",
   "language": "python",
   "name": "python2"
  },
  "language_info": {
   "codemirror_mode": {
    "name": "ipython",
    "version": 2
   },
   "file_extension": ".py",
   "mimetype": "text/x-python",
   "name": "python",
   "nbconvert_exporter": "python",
   "pygments_lexer": "ipython2",
   "version": "2.7.12"
  },
  "nbTranslate": {
   "displayLangs": [
    "*"
   ],
   "hotkey": "alt-t",
   "langInMainMenu": true,
   "sourceLang": "en",
   "targetLang": "fr",
   "useGoogleTranslate": true
  },
  "toc": {
   "nav_menu": {},
   "number_sections": true,
   "sideBar": true,
   "skip_h1_title": true,
   "toc_cell": false,
   "toc_position": {},
   "toc_section_display": "block",
   "toc_window_display": false
  },
  "varInspector": {
   "cols": {
    "lenName": 16,
    "lenType": 16,
    "lenVar": 40
   },
   "kernels_config": {
    "python": {
     "delete_cmd_postfix": "",
     "delete_cmd_prefix": "del ",
     "library": "var_list.py",
     "varRefreshCmd": "print(var_dic_list())"
    },
    "r": {
     "delete_cmd_postfix": ") ",
     "delete_cmd_prefix": "rm(",
     "library": "var_list.r",
     "varRefreshCmd": "cat(var_dic_list()) "
    }
   },
   "types_to_exclude": [
    "module",
    "function",
    "builtin_function_or_method",
    "instance",
    "_Feature"
   ],
   "window_display": false
  }
 },
 "nbformat": 4,
 "nbformat_minor": 2
}
